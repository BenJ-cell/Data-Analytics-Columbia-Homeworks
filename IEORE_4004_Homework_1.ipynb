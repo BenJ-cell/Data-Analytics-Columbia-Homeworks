{
  "nbformat": 4,
  "nbformat_minor": 0,
  "metadata": {
    "colab": {
      "provenance": []
    },
    "kernelspec": {
      "name": "python3",
      "display_name": "Python 3"
    },
    "language_info": {
      "name": "python"
    }
  },
  "cells": [
    {
      "cell_type": "code",
      "execution_count": null,
      "metadata": {
        "colab": {
          "base_uri": "https://localhost:8080/"
        },
        "id": "SV-pdU9AK1kN",
        "outputId": "94301d0b-edfc-42fa-d701-1a2645c5ebd9"
      },
      "outputs": [
        {
          "output_type": "execute_result",
          "data": {
            "text/plain": [
              "1.222866415540266e-08"
            ]
          },
          "metadata": {},
          "execution_count": 7
        }
      ],
      "source": [
        "from scipy.optimize import linprog\n",
        "c = [x*10**(-2) for x in[-4, 6, 4, 13, 9]]\n",
        "A = [[0,0,0,10**(-3),7.5*10**(-4)], [0.5, 0, -1,0, -1], [-0.5, 0, 1, 0, 1], [0.5, -1, 0, -1, 0], [-0.5, 1, 0, 1, 0]]\n",
        "b = [8, 0, 0,0,0]\n",
        "x1_bounds = (0, 20000)\n",
        "x2_bounds = (0, None)\n",
        "x3_bounds = (0, None)\n",
        "x4_bounds = (0, None)\n",
        "x5_bounds = (0, None)\n",
        "res = linprog(c, A_ub=A, b_ub=b, bounds=[x1_bounds, x2_bounds, x3_bounds, x4_bounds, x5_bounds])\n",
        "res.fun"
      ]
    },
    {
      "cell_type": "code",
      "source": [
        "res.x*10**9"
      ],
      "metadata": {
        "colab": {
          "base_uri": "https://localhost:8080/"
        },
        "id": "6fOZ-FhaK72A",
        "outputId": "96c09927-9c6c-4b9f-d89b-9afcd289018c"
      },
      "execution_count": null,
      "outputs": [
        {
          "output_type": "execute_result",
          "data": {
            "text/plain": [
              "array([1.19226421e+03, 5.92402162e+02, 5.95242801e+02, 3.73203758e+00,\n",
              "       8.91398880e-01])"
            ]
          },
          "metadata": {},
          "execution_count": 14
        }
      ]
    },
    {
      "cell_type": "code",
      "source": [
        "res.message"
      ],
      "metadata": {
        "colab": {
          "base_uri": "https://localhost:8080/",
          "height": 36
        },
        "id": "yNxForDoK9n6",
        "outputId": "60a1a8bc-00b6-4bf9-e275-721e3e828680"
      },
      "execution_count": null,
      "outputs": [
        {
          "output_type": "execute_result",
          "data": {
            "text/plain": [
              "'Optimization terminated successfully.'"
            ],
            "application/vnd.google.colaboratory.intrinsic+json": {
              "type": "string"
            }
          },
          "metadata": {},
          "execution_count": 9
        }
      ]
    }
  ]
}