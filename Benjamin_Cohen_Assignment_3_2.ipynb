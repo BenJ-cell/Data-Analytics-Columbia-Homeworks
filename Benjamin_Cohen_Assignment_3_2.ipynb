{
  "cells": [
    {
      "cell_type": "markdown",
      "metadata": {
        "id": "dYTgCZifl2-k"
      },
      "source": [
        "<h1>Scraping Fidelity.com</h1>\n",
        "In this assignment, you will scrape data from fidelity.com. The goal of the exercise is to get the latest sector performance data from the US markets, and to get the total market capitalization for each sector. \n",
        "\n",
        "The end result is to write a function: <i>get_us_sector_performance()</i> that will return a list of tuples. Each tuple should correspond to a sector and should contain the following data:\n",
        "<li>the sector name\n",
        "<li>the amount the sector has moved\n",
        "<li>the market capitalization of the sector\n",
        "<li>the market weight of the sector\n",
        "<li>a link to the fidelity page for that sector\n",
        "\n",
        "<p>\n",
        "The data should be sorted by decreasing order of market weight. I.e., the sector with the highest weight should be in the first tuple, etc."
      ]
    },
    {
      "cell_type": "markdown",
      "metadata": {
        "id": "bFv7cjrsl2-p"
      },
      "source": [
        "<h3>Process</h3>\n",
        "<li>Get a list of sectors and the links to the sector detail pages from the url (see function)\n",
        "<li>Loop through the list and call the function <i>get_sector_change_and_market_cap(sector_page_link)</i> for each sector\n",
        "<li>Accumulate the name, the change, the capitalization, the weight and the link for each sector in output_list (see function)\n",
        "<li>Sort the list by market weight"
      ]
    },
    {
      "cell_type": "markdown",
      "metadata": {
        "id": "q6cU0jaCl2-q"
      },
      "source": [
        "<b>Notes:</b>\n",
        "<li>Note that the market weight is a string with a % sign at the back. You will need to get rid of the % and convert the string into a float before you can sort it\n",
        "<li>Your starting data is the url listed below. You need to extract all data, including links to the sector pages, from the page at this url\n",
        "<li>To sort a list of tuples by an arbitrary element, use the example at the bottom of this notebook"
      ]
    },
    {
      "cell_type": "code",
      "execution_count": null,
      "metadata": {
        "id": "hkMlbo5el2-s"
      },
      "outputs": [],
      "source": [
        "import requests\n",
        "import re\n",
        "from bs4 import BeautifulSoup\n",
        "\n",
        "def get_us_sector_performance():\n",
        "    output_list = list()\n",
        "    url = \"https://eresearch.fidelity.com/eresearch/goto/markets_sectors/landing.jhtml\"\n",
        "    response = requests.get(url)\n",
        "    while response.status_code !=200:\n",
        "      response = requests.get(url)\n",
        "    bsoup = BeautifulSoup(response.content,'html.parser')\n",
        "    \n",
        "    for i in range(len(bsoup.select('a.heading1'))):\n",
        "      sector_id = bsoup.select('a.heading1')[i]['id']\n",
        "      url_sector = f\"https://eresearch.fidelity.com/eresearch/markets_sectors/sectors/sectors_in_market.jhtml?tab=learn&sector={sector_id}\"\n",
        "      response = requests.get(url_sector)\n",
        "      while response.status_code !=200:\n",
        "        response = requests.get(url)\n",
        "      content = BeautifulSoup(response.content,'html.parser')\n",
        "      try:\n",
        "        output_list.append((content.h1.text,\n",
        "                          float(str(content.find('span', {'class' : 'negative'})).split('>')[1].split('<')[0][:-1]),\n",
        "                          str(re.findall('<span>.*%</span>,',str(content.find_all('span')))).split('>')[1].split('<')[0],\n",
        "                          float(str(re.findall('<span>.*%</span>,',str(content.find_all('span')))).split('</span>')[2].split('<span>')[-1][:-1]),\n",
        "                          url_sector))\n",
        "      except:\n",
        "        try:\n",
        "          output_list.append((content.h1.text,\n",
        "                          float(str(content.find('span', {'class' : 'positive'})).split('>')[1].split('<')[0][:-1]),\n",
        "                          str(re.findall('<span>.*%</span>,',str(content.find_all('span')))).split('>')[1].split('<')[0],\n",
        "                          float(str(re.findall('<span>.*%</span>,',str(content.find_all('span')))).split('</span>')[2].split('<span>')[-1][:-1]),\n",
        "                          url_sector))\n",
        "        except:\n",
        "          None\n",
        "    output_list.sort(key=lambda k: k[-2],reverse=True)\n",
        "    return output_list"
      ]
    },
    {
      "cell_type": "code",
      "execution_count": null,
      "metadata": {
        "id": "o-2dkvMxl2-t"
      },
      "outputs": [],
      "source": [
        "def get_sector_change_and_market_cap(sector_page_link):\n",
        "    response = requests.get(sector_page_link)\n",
        "    while response.status_code !=200:\n",
        "      response = requests.get(sector_page_link)\n",
        "    content = BeautifulSoup(response.content,'html.parser')\n",
        "    try:\n",
        "        sector_change = float(str(content.find('span', {'class' : 'negative'})).split('>')[1].split('<')[0][:-1])\n",
        "        sector_market_cap = str(re.findall('<span>.*%</span>,',str(content.find_all('span')))).split('>')[1].split('<')[0]\n",
        "        sector_market_weight = float(str(re.findall('<span>.*%</span>,',str(content.find_all('span')))).split('</span>')[2].split('<span>')[-1][:-1])\n",
        "    except:\n",
        "        try:\n",
        "          sector_change = float(str(content.find('span', {'class' : 'positive'})).split('>')[1].split('<')[0][:-1])\n",
        "          sector_market_cap = str(re.findall('<span>.*%</span>,',str(content.find_all('span')))).split('>')[1].split('<')[0]\n",
        "          sector_market_weight = float(str(re.findall('<span>.*%</span>,',str(content.find_all('span')))).split('</span>')[2].split('<span>')[-1][:-1])\n",
        "        except:\n",
        "          None  \n",
        "    return sector_change,sector_market_cap,sector_market_weight"
      ]
    },
    {
      "cell_type": "code",
      "execution_count": null,
      "metadata": {
        "colab": {
          "base_uri": "https://localhost:8080/"
        },
        "id": "Cre-mXQIl2-u",
        "outputId": "73cdad37-e1b6-437c-cedd-fd21d4bace24"
      },
      "outputs": [
        {
          "output_type": "execute_result",
          "data": {
            "text/plain": [
              "(0.82, '$6.53T', 11.66)"
            ]
          },
          "metadata": {},
          "execution_count": 6
        }
      ],
      "source": [
        "#Test get_sector_change_and_market_cap()\n",
        "link = \"https://eresearch.fidelity.com/eresearch/markets_sectors/sectors/sectors_in_market.jhtml?tab=learn&sector=25\"\n",
        "get_sector_change_and_market_cap(link)\n",
        "#Should return (-0.40, '$3.58T', 6.80)\n",
        "#Note that neither the -0.40, nor the 6.80, end with a % sign"
      ]
    },
    {
      "cell_type": "code",
      "execution_count": null,
      "metadata": {
        "scrolled": false,
        "colab": {
          "base_uri": "https://localhost:8080/"
        },
        "id": "0Pi-wyR9l2-v",
        "outputId": "9d57b4b9-d9e2-4414-f383-89e391648c75"
      },
      "outputs": [
        {
          "output_type": "execute_result",
          "data": {
            "text/plain": [
              "[('Information Technology',\n",
              "  0.6,\n",
              "  '$11.43T',\n",
              "  26.75,\n",
              "  'https://eresearch.fidelity.com/eresearch/markets_sectors/sectors/sectors_in_market.jhtml?tab=learn&sector=45'),\n",
              " ('Health Care',\n",
              "  0.46,\n",
              "  '$6.93T',\n",
              "  14.87,\n",
              "  'https://eresearch.fidelity.com/eresearch/markets_sectors/sectors/sectors_in_market.jhtml?tab=learn&sector=35'),\n",
              " ('Consumer Discretionary',\n",
              "  0.78,\n",
              "  '$6.53T',\n",
              "  11.66,\n",
              "  'https://eresearch.fidelity.com/eresearch/markets_sectors/sectors/sectors_in_market.jhtml?tab=learn&sector=25'),\n",
              " ('Communication Services',\n",
              "  0.17,\n",
              "  '$4.04T',\n",
              "  8.08,\n",
              "  'https://eresearch.fidelity.com/eresearch/markets_sectors/sectors/sectors_in_market.jhtml?tab=learn&sector=50'),\n",
              " ('Industrials',\n",
              "  0.21,\n",
              "  '$4.46T',\n",
              "  7.83,\n",
              "  'https://eresearch.fidelity.com/eresearch/markets_sectors/sectors/sectors_in_market.jhtml?tab=learn&sector=20'),\n",
              " ('Consumer Staples',\n",
              "  -0.56,\n",
              "  '$4.06T',\n",
              "  6.96,\n",
              "  'https://eresearch.fidelity.com/eresearch/markets_sectors/sectors/sectors_in_market.jhtml?tab=learn&sector=30'),\n",
              " ('Energy',\n",
              "  1.77,\n",
              "  '$3.17T',\n",
              "  4.34,\n",
              "  'https://eresearch.fidelity.com/eresearch/markets_sectors/sectors/sectors_in_market.jhtml?tab=learn&sector=10'),\n",
              " ('Utilities',\n",
              "  -1.02,\n",
              "  '$1.60T',\n",
              "  3.27,\n",
              "  'https://eresearch.fidelity.com/eresearch/markets_sectors/sectors/sectors_in_market.jhtml?tab=learn&sector=55'),\n",
              " ('Real Estate',\n",
              "  -0.2,\n",
              "  '$1.34T',\n",
              "  2.83,\n",
              "  'https://eresearch.fidelity.com/eresearch/markets_sectors/sectors/sectors_in_market.jhtml?tab=learn&sector=60'),\n",
              " ('Materials',\n",
              "  0.68,\n",
              "  '$1.97T',\n",
              "  2.46,\n",
              "  'https://eresearch.fidelity.com/eresearch/markets_sectors/sectors/sectors_in_market.jhtml?tab=learn&sector=15')]"
            ]
          },
          "metadata": {},
          "execution_count": 7
        }
      ],
      "source": [
        "#Test get_us_sector_performance()\n",
        "get_us_sector_performance()"
      ]
    },
    {
      "cell_type": "code",
      "execution_count": null,
      "metadata": {
        "id": "SD-NYqUFl2-v"
      },
      "outputs": [],
      "source": [
        "#Running the above cell should return (example: obviously the results will vary over time!)\n",
        "\"\"\"\n",
        "[('Information Technology',\n",
        "  2.16,\n",
        "  '$14.64T',\n",
        "  28.02,\n",
        "  'https://eresearch.fidelity.com/eresearch/markets_sectors/sectors/sectors_in_market.jhtml?tab=learn&sector=45'),\n",
        " ('Health Care',\n",
        "  0.19,\n",
        "  '$7.60T',\n",
        "  13.22,\n",
        "  'https://eresearch.fidelity.com/eresearch/markets_sectors/sectors/sectors_in_market.jhtml?tab=learn&sector=35'),\n",
        " ('Consumer Discretionary',\n",
        "  1.96,\n",
        "  '$8.32T',\n",
        "  11.94,\n",
        "  'https://eresearch.fidelity.com/eresearch/markets_sectors/sectors/sectors_in_market.jhtml?tab=learn&sector=25'),\n",
        " ('Financials',\n",
        "  0.63,\n",
        "  '$8.83T',\n",
        "  11.32,\n",
        "  'https://eresearch.fidelity.com/eresearch/markets_sectors/sectors/sectors_in_market.jhtml?tab=learn&sector=40'),\n",
        " ('Communication Services',\n",
        "  0.78,\n",
        "  '$5.74T',\n",
        "  10.01,\n",
        "  'https://eresearch.fidelity.com/eresearch/markets_sectors/sectors/sectors_in_market.jhtml?tab=learn&sector=50'),\n",
        " ('Industrials',\n",
        "  0.43,\n",
        "  '$5.58T',\n",
        "  8.06,\n",
        "  'https://eresearch.fidelity.com/eresearch/markets_sectors/sectors/sectors_in_market.jhtml?tab=learn&sector=20'),\n",
        " ('Consumer Staples',\n",
        "  -0.16,\n",
        "  '$4.26T',\n",
        "  6.27,\n",
        "  'https://eresearch.fidelity.com/eresearch/markets_sectors/sectors/sectors_in_market.jhtml?tab=learn&sector=30'),\n",
        " ('Energy',\n",
        "  0.12,\n",
        "  '$3.19T',\n",
        "  3.27,\n",
        "  'https://eresearch.fidelity.com/eresearch/markets_sectors/sectors/sectors_in_market.jhtml?tab=learn&sector=10'),\n",
        " ('Real Estate',\n",
        "  0.69,\n",
        "  '$1.71T',\n",
        "  2.72,\n",
        "  'https://eresearch.fidelity.com/eresearch/markets_sectors/sectors/sectors_in_market.jhtml?tab=learn&sector=60'),\n",
        " ('Utilities',\n",
        "  0.55,\n",
        "  '$1.63T',\n",
        "  2.6,\n",
        "  'https://eresearch.fidelity.com/eresearch/markets_sectors/sectors/sectors_in_market.jhtml?tab=learn&sector=55'),\n",
        " ('Materials',\n",
        "  0.25,\n",
        "  '$2.53T',\n",
        "  2.58,\n",
        "  'https://eresearch.fidelity.com/eresearch/markets_sectors/sectors/sectors_in_market.jhtml?tab=learn&sector=15')]\n",
        "  \n",
        "\"\"\""
      ]
    },
    {
      "cell_type": "code",
      "execution_count": null,
      "metadata": {
        "id": "KGBFok9Zl2-y"
      },
      "outputs": [],
      "source": [
        "#Print the different sector names from the above output in alpabetical order"
      ]
    },
    {
      "cell_type": "code",
      "execution_count": null,
      "metadata": {
        "colab": {
          "base_uri": "https://localhost:8080/"
        },
        "id": "LPxk4__9l2-z",
        "outputId": "d7f21f5c-18e2-469c-b769-a1dd850a78f4"
      },
      "outputs": [
        {
          "output_type": "stream",
          "name": "stdout",
          "text": [
            "[('Communication Services', 0.27, '$4.04T', 8.08, 'https://eresearch.fidelity.com/eresearch/markets_sectors/sectors/sectors_in_market.jhtml?tab=learn&sector=50'), ('Consumer Discretionary', 0.98, '$6.53T', 11.66, 'https://eresearch.fidelity.com/eresearch/markets_sectors/sectors/sectors_in_market.jhtml?tab=learn&sector=25'), ('Consumer Staples', -0.57, '$4.06T', 6.96, 'https://eresearch.fidelity.com/eresearch/markets_sectors/sectors/sectors_in_market.jhtml?tab=learn&sector=30'), ('Energy', 1.91, '$3.18T', 4.34, 'https://eresearch.fidelity.com/eresearch/markets_sectors/sectors/sectors_in_market.jhtml?tab=learn&sector=10'), ('Financials', 0.04, '$6.92T', 10.95, 'https://eresearch.fidelity.com/eresearch/markets_sectors/sectors/sectors_in_market.jhtml?tab=learn&sector=40'), ('Health Care', 0.46, '$6.93T', 14.87, 'https://eresearch.fidelity.com/eresearch/markets_sectors/sectors/sectors_in_market.jhtml?tab=learn&sector=35'), ('Industrials', 0.27, '$4.46T', 7.83, 'https://eresearch.fidelity.com/eresearch/markets_sectors/sectors/sectors_in_market.jhtml?tab=learn&sector=20'), ('Information Technology', 0.68, '$11.43T', 26.75, 'https://eresearch.fidelity.com/eresearch/markets_sectors/sectors/sectors_in_market.jhtml?tab=learn&sector=45'), ('Materials', 0.76, '$1.97T', 2.46, 'https://eresearch.fidelity.com/eresearch/markets_sectors/sectors/sectors_in_market.jhtml?tab=learn&sector=15'), ('Real Estate', -0.15, '$1.34T', 2.83, 'https://eresearch.fidelity.com/eresearch/markets_sectors/sectors/sectors_in_market.jhtml?tab=learn&sector=60'), ('Utilities', -1.0, '$1.60T', 3.27, 'https://eresearch.fidelity.com/eresearch/markets_sectors/sectors/sectors_in_market.jhtml?tab=learn&sector=55')]\n"
          ]
        }
      ],
      "source": [
        "result = get_us_sector_performance()\n",
        "result.sort()\n",
        "print(result)"
      ]
    },
    {
      "cell_type": "code",
      "execution_count": null,
      "metadata": {
        "id": "icfm9_9nl2-0"
      },
      "outputs": [],
      "source": [
        "### Find the sector with lowest Market cap by creating a dict of all sectors and their market caps\n",
        "##    example of the output. {'Materials': '$2.01T', ...}"
      ]
    },
    {
      "cell_type": "code",
      "execution_count": null,
      "metadata": {
        "colab": {
          "base_uri": "https://localhost:8080/"
        },
        "id": "lVJXhhO_l2-0",
        "outputId": "ccabc45e-e00d-449f-8596-20fcdbfc31d7"
      },
      "outputs": [
        {
          "output_type": "stream",
          "name": "stdout",
          "text": [
            "Full dictionnary {'Real Estate': '$1.34T', 'Utilities': '$1.60T', 'Materials': '$1.97T', 'Information Technology': '$11.43T', 'Energy': '$3.18T', 'Communication Services': '$4.04T', 'Consumer Staples': '$4.06T', 'Industrials': '$4.46T', 'Consumer Discretionary': '$6.53T', 'Financials': '$6.92T', 'Health Care': '$6.93T'}\n",
            "\n",
            "Sector with lowest Market cap {'Real Estate': '$1.34T'}\n"
          ]
        }
      ],
      "source": [
        "result.sort(key=lambda k: k[2])\n",
        "# We can create a dict:\n",
        "result_dict = {f'{result[i][0]}': result[i][2] for i in range(len(result))}\n",
        "print('Full dictionnary',result_dict)\n",
        "print()\n",
        "print('Sector with lowest Market cap',{list(result_dict.keys())[0]:result_dict[list(result_dict.keys())[0]]})"
      ]
    },
    {
      "cell_type": "markdown",
      "metadata": {
        "id": "UvG0MDqpl2-1"
      },
      "source": [
        "<h3>Hint: How to sort tuples by an arbitrary element?</h3>"
      ]
    },
    {
      "cell_type": "code",
      "execution_count": null,
      "metadata": {
        "colab": {
          "base_uri": "https://localhost:8080/"
        },
        "id": "7ZDoPaRtl2-1",
        "outputId": "ca8136b5-d265-4de7-db52-c43d93be3997"
      },
      "outputs": [
        {
          "output_type": "execute_result",
          "data": {
            "text/plain": [
              "[('a', 23.2, 'b'), ('c', 17.4, 'f'), ('d', 29.2, 'z'), ('e', 1.74, 'bb')]"
            ]
          },
          "metadata": {},
          "execution_count": 2
        }
      ],
      "source": [
        "x = [('a',23.2,'b'),('c',17.4,'f'),('d',29.2,'z'),('e',1.74,'bb')]\n",
        "#Sort by the first element of the tuple\n",
        "x.sort()\n",
        "x"
      ]
    },
    {
      "cell_type": "code",
      "execution_count": null,
      "metadata": {
        "colab": {
          "base_uri": "https://localhost:8080/"
        },
        "id": "pB3PsgCFl2-2",
        "outputId": "219236ae-33da-4165-8e09-83b3b7d7a33d"
      },
      "outputs": [
        {
          "output_type": "execute_result",
          "data": {
            "text/plain": [
              "[('e', 1.74, 'bb'), ('c', 17.4, 'f'), ('a', 23.2, 'b'), ('d', 29.2, 'z')]"
            ]
          },
          "metadata": {},
          "execution_count": 1
        }
      ],
      "source": [
        "x = [('a',23.2,'b'),('c',17.4,'f'),('d',29.2,'z'),('e',1.74,'bb')]\n",
        "#Sort by the element at position 1\n",
        "x.sort(key=lambda k: k[1])\n",
        "x"
      ]
    }
  ],
  "metadata": {
    "kernelspec": {
      "display_name": "Python 3 (ipykernel)",
      "language": "python",
      "name": "python3"
    },
    "language_info": {
      "codemirror_mode": {
        "name": "ipython",
        "version": 3
      },
      "file_extension": ".py",
      "mimetype": "text/x-python",
      "name": "python",
      "nbconvert_exporter": "python",
      "pygments_lexer": "ipython3",
      "version": "3.9.7"
    },
    "colab": {
      "provenance": []
    }
  },
  "nbformat": 4,
  "nbformat_minor": 0
}