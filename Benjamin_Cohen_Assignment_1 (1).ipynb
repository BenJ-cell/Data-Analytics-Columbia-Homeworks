{
  "cells": [
    {
      "cell_type": "markdown",
      "metadata": {
        "id": "FsFAFaeLp-WL"
      },
      "source": [
        "<h1>Problem 1: Part 1</h1>"
      ]
    },
    {
      "cell_type": "code",
      "execution_count": null,
      "metadata": {
        "collapsed": true,
        "id": "pVDZcANKp-WP"
      },
      "outputs": [],
      "source": [
        "def preceding(char):\n",
        "    coded_char = '' #Your code will figure out what the value of coded_char should be\n",
        "    \n",
        "    #Code goes here\n",
        "    alphabet = 'abcdefghijklmnopqrstuvwxyz'\n",
        "    ALPHABET = alphabet.upper()\n",
        "    if char == alphabet[0]:\n",
        "      coded_char = alphabet[-1]\n",
        "    elif char == ALPHABET[0]:\n",
        "      coded_char = ALPHABET[-1]\n",
        "    elif alphabet[1]<=char<=alphabet[-1]:\n",
        "      coded_char = alphabet[alphabet.find(char)-1]\n",
        "    elif ALPHABET[1]<=char<=ALPHABET[-1]:\n",
        "      coded_char = ALPHABET[ALPHABET.find(char)-1]\n",
        "    else:\n",
        "      coded_char = char\n",
        "    \n",
        "    return coded_char"
      ]
    },
    {
      "cell_type": "code",
      "execution_count": null,
      "metadata": {
        "colab": {
          "base_uri": "https://localhost:8080/"
        },
        "id": "0vqHfaSbp-WS",
        "outputId": "968751d1-3b93-4d83-c9b2-95b85acc25e6"
      },
      "outputs": [
        {
          "output_type": "stream",
          "name": "stdout",
          "text": [
            "z\n",
            "a\n",
            "!\n"
          ]
        }
      ],
      "source": [
        "print(preceding('a')) #Should print z\n",
        "print(preceding('b')) #Should print a\n",
        "print(preceding('!')) #Should print !"
      ]
    },
    {
      "cell_type": "markdown",
      "metadata": {
        "id": "vFjLfr9Yp-WU"
      },
      "source": [
        "<h1>Problem 1: Part 2</h1>\n"
      ]
    },
    {
      "cell_type": "code",
      "execution_count": null,
      "metadata": {
        "collapsed": true,
        "id": "ZiKPHjPep-WV"
      },
      "outputs": [],
      "source": [
        "def succeeding(char):\n",
        "    coded_char = '' #Your code will figure out what the value of coded_char should be\n",
        "    \n",
        "    #Code goes here\n",
        "    alphabet = 'abcdefghijklmnopqrstuvwxyz'\n",
        "    ALPHABET = alphabet.upper()\n",
        "    if char == alphabet[-1]:\n",
        "      coded_char = alphabet[0]\n",
        "    elif char == ALPHABET[-1]:\n",
        "      coded_char = ALPHABET[0]\n",
        "    elif alphabet[0]<=char<=alphabet[-2]:\n",
        "      coded_char = alphabet[alphabet.find(char)+1]\n",
        "    elif ALPHABET[0]<=char<=ALPHABET[-2]:\n",
        "      coded_char = ALPHABET[ALPHABET.find(char)+1]\n",
        "    else:\n",
        "      coded_char = char\n",
        "    \n",
        "    return coded_char  "
      ]
    },
    {
      "cell_type": "code",
      "execution_count": null,
      "metadata": {
        "colab": {
          "base_uri": "https://localhost:8080/"
        },
        "id": "nEFcgLUNp-WW",
        "outputId": "4b5dd167-b622-4153-a9a0-05d693a507bc"
      },
      "outputs": [
        {
          "output_type": "stream",
          "name": "stdout",
          "text": [
            "a\n",
            "c\n",
            "!\n"
          ]
        }
      ],
      "source": [
        "print(succeeding('z')) #Should print a\n",
        "print(succeeding('b')) #Should print c\n",
        "print(succeeding('!')) #Should print !"
      ]
    },
    {
      "cell_type": "markdown",
      "metadata": {
        "id": "jGRZ38GIp-WX"
      },
      "source": [
        "<h1>Problem 1: Part 3</h1>"
      ]
    },
    {
      "cell_type": "code",
      "source": [
        "def message_coder(message_string,function):\n",
        "    return ''.join(list(map(function,message_string)))"
      ],
      "metadata": {
        "id": "hS0ZUd19wJOE"
      },
      "execution_count": null,
      "outputs": []
    },
    {
      "cell_type": "markdown",
      "metadata": {
        "id": "UYbWgQdXp-WZ"
      },
      "source": [
        "<h3>Test <b>preceding</b> and <b>succeeding</b> and <b>message_coder</h3>"
      ]
    },
    {
      "cell_type": "code",
      "execution_count": null,
      "metadata": {
        "colab": {
          "base_uri": "https://localhost:8080/"
        },
        "id": "moHpnxc_p-Wa",
        "outputId": "e00207c1-d5ca-4172-e2ac-b0a6993866e4"
      },
      "outputs": [
        {
          "output_type": "stream",
          "name": "stdout",
          "text": [
            "gdkkn cnkkx ydaqz!\n",
            "ifmmp epmmz afcsb!\n"
          ]
        }
      ],
      "source": [
        "print(message_coder('hello dolly zebra!',preceding))# prints 'gdkkn cnkkx ydaqz!’\n",
        "\n",
        "print(message_coder('hello dolly zebra!',succeeding))# prints 'ifmmp epmmz afcsb!’\n"
      ]
    },
    {
      "cell_type": "markdown",
      "metadata": {
        "id": "Z4BVeVpSp-Wb"
      },
      "source": [
        "<h1>Problem 2: Word Count</h2>"
      ]
    },
    {
      "cell_type": "code",
      "execution_count": null,
      "metadata": {
        "collapsed": true,
        "id": "zctRq9K9p-Wc"
      },
      "outputs": [],
      "source": [
        "def word_distribution(text_string,word_list=[]):\n",
        "    frequency_dict = dict()\n",
        "\n",
        "    #Code goes here\n",
        "    temporary_string = text_string.lower().split()\n",
        "    for i, word in enumerate(temporary_string):\n",
        "      j = 1\n",
        "      while not('a'<=word[-j]<='z'):                           # (OPTIONAL) We use a while loop to handle multiple punctuations\n",
        "        temporary_string[i] = word[:-j]                        #            at the end of each word.\n",
        "        j +=1\n",
        "    for word in temporary_string:\n",
        "      if not frequency_dict.get(word):\n",
        "        frequency_dict[word] = 1\n",
        "      else:\n",
        "        frequency_dict[word] +=1\n",
        "\n",
        "    if not word_list:\n",
        "      return frequency_dict\n",
        "    else:\n",
        "      new_dict = dict()\n",
        "      for key in [word.lower() for word in word_list]:\n",
        "        if key in frequency_dict.keys():\n",
        "          new_dict[key]=frequency_dict.get(key)\n",
        "        else:\n",
        "          new_dict[key]=0\n",
        "      return new_dict"
      ]
    },
    {
      "cell_type": "markdown",
      "metadata": {
        "id": "iK0IeUjfp-Wc"
      },
      "source": [
        "<h3>Test <b>word_distribution</b></h3>\n"
      ]
    },
    {
      "cell_type": "code",
      "execution_count": null,
      "metadata": {
        "colab": {
          "base_uri": "https://localhost:8080/"
        },
        "id": "HBoX6-iap-Wd",
        "outputId": "6cbb58ca-37fb-4f04-cb2e-074931f644eb"
      },
      "outputs": [
        {
          "output_type": "stream",
          "name": "stdout",
          "text": [
            "{'hello': 2, 'how': 1, 'are': 1, 'you': 2, 'please': 1, 'say': 1, 'if': 1, 'don’t': 1, 'love': 1, 'me': 1}\n"
          ]
        }
      ],
      "source": [
        "text_string = \"Hello. How are you? Please say hello if you don’t love me!\"\n",
        "print(word_distribution(text_string)) #should print {‘hello’: 2, ‘how’:1, ‘are’:1, ‘you’:2,’please’:1, “don’t”: 1 …}\n"
      ]
    },
    {
      "cell_type": "code",
      "execution_count": null,
      "metadata": {
        "colab": {
          "base_uri": "https://localhost:8080/"
        },
        "id": "LwSYMXuJp-We",
        "outputId": "f0d64f01-0703-4ee9-9b67-5ee66d0de710"
      },
      "outputs": [
        {
          "output_type": "stream",
          "name": "stdout",
          "text": [
            "{'i': 3, 'saw': 1, 'britain': 0}\n"
          ]
        }
      ],
      "source": [
        "text_string = 'I came, I saw, I conquered!'\n",
        "print(word_distribution(text_string,word_list=['I','saw','Britain'])) # prints {‘i’:3,’saw’:1,’britain':0}\n"
      ]
    },
    {
      "cell_type": "code",
      "execution_count": null,
      "metadata": {
        "collapsed": true,
        "id": "zFwUGXAup-We"
      },
      "outputs": [],
      "source": []
    }
  ],
  "metadata": {
    "kernelspec": {
      "display_name": "Python [py36]",
      "language": "python",
      "name": "Python [py36]"
    },
    "language_info": {
      "codemirror_mode": {
        "name": "ipython",
        "version": 3
      },
      "file_extension": ".py",
      "mimetype": "text/x-python",
      "name": "python",
      "nbconvert_exporter": "python",
      "pygments_lexer": "ipython3",
      "version": "3.6.1"
    },
    "colab": {
      "provenance": []
    }
  },
  "nbformat": 4,
  "nbformat_minor": 0
}