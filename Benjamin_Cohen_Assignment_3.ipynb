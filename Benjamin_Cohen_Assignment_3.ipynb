{
  "cells": [
    {
      "cell_type": "markdown",
      "metadata": {
        "id": "3xAmnZkVh5MM"
      },
      "source": [
        "<h1>Scraping Fidelity.com</h1>\n",
        "In this assignment, you will scrape data from fidelity.com. The goal of the exercise is to get the latest sector performance data from the US markets, and to get the total market capitalization for each sector. \n",
        "\n",
        "The end result is to write a function: <i>get_us_sector_performance()</i> that will return a list of tuples. Each tuple should correspond to a sector and should contain the following data:\n",
        "<li>the sector name\n",
        "<li>the amount the sector has moved\n",
        "<li>the market capitalization of the sector\n",
        "<li>the market weight of the sector\n",
        "<li>a link to the fidelity page for that sector\n",
        "\n",
        "<p>\n",
        "The data should be sorted by decreasing order of market weight. I.e., the sector with the highest weight should be in the first tuple, etc."
      ]
    },
    {
      "cell_type": "markdown",
      "metadata": {
        "id": "EcT623O3h5MU"
      },
      "source": [
        "<h3>Process</h3>\n",
        "<li>Get a list of sectors and the links to the sector detail pages from the url (see function)\n",
        "<li>Loop through the list and call the function <i>get_sector_change_and_market_cap(sector_page_link)</i> for each sector\n",
        "<li>Accumulate the name, the change, the capitalization, the weight and the link for each sector in output_list (see function)\n",
        "<li>Sort the list by market weight"
      ]
    },
    {
      "cell_type": "markdown",
      "metadata": {
        "id": "u8PLJm9Ch5MY"
      },
      "source": [
        "<b>Notes:</b>\n",
        "<li>Note that the market weight is a string with a % sign at the back. You will need to get rid of the % and convert the string into a float before you can sort it\n",
        "<li>Your starting data is the url listed below. You need to extract all data, including links to the sector pages, from the page at this url\n",
        "<li>To sort a list of tuples by an arbitrary element, use the example at the bottom of this notebook"
      ]
    },
    {
      "cell_type": "code",
      "execution_count": null,
      "metadata": {
        "id": "u99HJnkQh5Mb"
      },
      "outputs": [],
      "source": [
        "import requests\n",
        "import re\n",
        "from bs4 import BeautifulSoup\n",
        "\n",
        "def get_us_sector_performance():\n",
        "    output_list = list()\n",
        "    url = \"https://eresearch.fidelity.com/eresearch/goto/markets_sectors/landing.jhtml\"\n",
        "    response = requests.get(url)\n",
        "    while response.status_code !=200:\n",
        "      response = requests.get(url)\n",
        "    bsoup = BeautifulSoup(response.content,'html.parser')\n",
        "    \n",
        "    for i in range(len(bsoup.select('a.heading1'))):\n",
        "      sector_id = bsoup.select('a.heading1')[i]['id']\n",
        "      url_sector = f\"https://eresearch.fidelity.com/eresearch/markets_sectors/sectors/sectors_in_market.jhtml?tab=learn&sector={sector_id}\"\n",
        "      response = requests.get(url_sector)\n",
        "      while response.status_code !=200:\n",
        "        response = requests.get(url)\n",
        "      content = BeautifulSoup(response.content,'html.parser')\n",
        "      try:\n",
        "        output_list.append((content.h1.text,\n",
        "                          float(str(content.find('span', {'class' : 'negative'})).split('>')[1].split('<')[0][:-1]),\n",
        "                          str(re.findall('<span>.*%</span>,',str(content.find_all('span')))).split('>')[1].split('<')[0],\n",
        "                          float(str(re.findall('<span>.*%</span>,',str(content.find_all('span')))).split('</span>')[2].split('<span>')[-1][:-1]),\n",
        "                          url_sector))\n",
        "      except:\n",
        "        try:\n",
        "          output_list.append((content.h1.text,\n",
        "                          float(str(content.find('span', {'class' : 'positive'})).split('>')[1].split('<')[0][:-1]),\n",
        "                          str(re.findall('<span>.*%</span>,',str(content.find_all('span')))).split('>')[1].split('<')[0],\n",
        "                          float(str(re.findall('<span>.*%</span>,',str(content.find_all('span')))).split('</span>')[2].split('<span>')[-1][:-1]),\n",
        "                          url_sector))\n",
        "        except:\n",
        "          None\n",
        "    output_list.sort(key=lambda k: k[-2],reverse=True)\n",
        "    return output_list"
      ]
    },
    {
      "cell_type": "code",
      "execution_count": null,
      "metadata": {
        "id": "Lhdagzv-h5Me"
      },
      "outputs": [],
      "source": [
        "def get_sector_change_and_market_cap(sector_page_link):\n",
        "    response = requests.get(sector_page_link)\n",
        "    while response.status_code !=200:\n",
        "      response = requests.get(sector_page_link)\n",
        "    content = BeautifulSoup(response.content,'html.parser')\n",
        "    try:\n",
        "        sector_change = float(str(content.find('span', {'class' : 'negative'})).split('>')[1].split('<')[0][:-1])\n",
        "        sector_market_cap = str(re.findall('<span>.*%</span>,',str(content.find_all('span')))).split('>')[1].split('<')[0]\n",
        "        sector_market_weight = float(str(re.findall('<span>.*%</span>,',str(content.find_all('span')))).split('</span>')[2].split('<span>')[-1][:-1])\n",
        "    except:\n",
        "        try:\n",
        "          sector_change = float(str(content.find('span', {'class' : 'positive'})).split('>')[1].split('<')[0][:-1])\n",
        "          sector_market_cap = str(re.findall('<span>.*%</span>,',str(content.find_all('span')))).split('>')[1].split('<')[0]\n",
        "          sector_market_weight = float(str(re.findall('<span>.*%</span>,',str(content.find_all('span')))).split('</span>')[2].split('<span>')[-1][:-1])\n",
        "        except:\n",
        "          None  \n",
        "    return sector_change,sector_market_cap,sector_market_weight"
      ]
    },
    {
      "cell_type": "code",
      "execution_count": null,
      "metadata": {
        "colab": {
          "base_uri": "https://localhost:8080/"
        },
        "id": "CCODppe_h5Mf",
        "outputId": "218988d8-8f08-4e15-a4b5-f2e49874c67f"
      },
      "outputs": [
        {
          "output_type": "execute_result",
          "data": {
            "text/plain": [
              "(1.34, '$7.06T', 11.82)"
            ]
          },
          "metadata": {},
          "execution_count": 3
        }
      ],
      "source": [
        "#Test get_sector_change_and_market_cap()\n",
        "link = \"https://eresearch.fidelity.com/eresearch/markets_sectors/sectors/sectors_in_market.jhtml?tab=learn&sector=25\"\n",
        "get_sector_change_and_market_cap(link)\n",
        "#Should return (-0.40, '$3.58T', 6.80)\n",
        "#Note that neither the -0.40, nor the 6.80, end with a % sign"
      ]
    },
    {
      "cell_type": "code",
      "execution_count": null,
      "metadata": {
        "scrolled": false,
        "colab": {
          "base_uri": "https://localhost:8080/"
        },
        "id": "1rBeRtYRh5Mg",
        "outputId": "0bbfea3f-b18a-4bf8-9193-4cc86b004229"
      },
      "outputs": [
        {
          "output_type": "execute_result",
          "data": {
            "text/plain": [
              "[('Information Technology',\n",
              "  0.82,\n",
              "  '$12.03T',\n",
              "  26.57,\n",
              "  'https://eresearch.fidelity.com/eresearch/markets_sectors/sectors/sectors_in_market.jhtml?tab=learn&sector=45'),\n",
              " ('Health Care',\n",
              "  -0.54,\n",
              "  '$7.36T',\n",
              "  14.67,\n",
              "  'https://eresearch.fidelity.com/eresearch/markets_sectors/sectors/sectors_in_market.jhtml?tab=learn&sector=35'),\n",
              " ('Consumer Discretionary',\n",
              "  1.34,\n",
              "  '$7.06T',\n",
              "  11.82,\n",
              "  'https://eresearch.fidelity.com/eresearch/markets_sectors/sectors/sectors_in_market.jhtml?tab=learn&sector=25'),\n",
              " ('Financials',\n",
              "  1.12,\n",
              "  '$7.47T',\n",
              "  11.08,\n",
              "  'https://eresearch.fidelity.com/eresearch/markets_sectors/sectors/sectors_in_market.jhtml?tab=learn&sector=40'),\n",
              " ('Communication Services',\n",
              "  0.44,\n",
              "  '$4.31T',\n",
              "  8.2,\n",
              "  'https://eresearch.fidelity.com/eresearch/markets_sectors/sectors/sectors_in_market.jhtml?tab=learn&sector=50'),\n",
              " ('Industrials',\n",
              "  1.33,\n",
              "  '$4.76T',\n",
              "  7.76,\n",
              "  'https://eresearch.fidelity.com/eresearch/markets_sectors/sectors/sectors_in_market.jhtml?tab=learn&sector=20'),\n",
              " ('Consumer Staples',\n",
              "  0.65,\n",
              "  '$4.17T',\n",
              "  6.74,\n",
              "  'https://eresearch.fidelity.com/eresearch/markets_sectors/sectors/sectors_in_market.jhtml?tab=learn&sector=30'),\n",
              " ('Energy',\n",
              "  0.08,\n",
              "  '$3.53T',\n",
              "  4.65,\n",
              "  'https://eresearch.fidelity.com/eresearch/markets_sectors/sectors/sectors_in_market.jhtml?tab=learn&sector=10'),\n",
              " ('Utilities',\n",
              "  1.32,\n",
              "  '$1.71T',\n",
              "  3.2,\n",
              "  'https://eresearch.fidelity.com/eresearch/markets_sectors/sectors/sectors_in_market.jhtml?tab=learn&sector=55'),\n",
              " ('Real Estate',\n",
              "  -0.21,\n",
              "  '$1.48T',\n",
              "  2.8,\n",
              "  'https://eresearch.fidelity.com/eresearch/markets_sectors/sectors/sectors_in_market.jhtml?tab=learn&sector=60'),\n",
              " ('Materials',\n",
              "  1.63,\n",
              "  '$2.14T',\n",
              "  2.5,\n",
              "  'https://eresearch.fidelity.com/eresearch/markets_sectors/sectors/sectors_in_market.jhtml?tab=learn&sector=15')]"
            ]
          },
          "metadata": {},
          "execution_count": 6
        }
      ],
      "source": [
        "#Test get_us_sector_performance()\n",
        "get_us_sector_performance()"
      ]
    },
    {
      "cell_type": "code",
      "execution_count": null,
      "metadata": {
        "id": "7tCs7ODqh5Mi",
        "colab": {
          "base_uri": "https://localhost:8080/",
          "height": 126
        },
        "outputId": "777c3339-eacc-44df-b8ec-930af71106f4"
      },
      "outputs": [
        {
          "output_type": "execute_result",
          "data": {
            "text/plain": [
              "\"\\n[('Information Technology',\\n  2.16,\\n  '$14.64T',\\n  28.02,\\n  'https://eresearch.fidelity.com/eresearch/markets_sectors/sectors/sectors_in_market.jhtml?tab=learn&sector=45'),\\n ('Health Care',\\n  0.19,\\n  '$7.60T',\\n  13.22,\\n  'https://eresearch.fidelity.com/eresearch/markets_sectors/sectors/sectors_in_market.jhtml?tab=learn&sector=35'),\\n ('Consumer Discretionary',\\n  1.96,\\n  '$8.32T',\\n  11.94,\\n  'https://eresearch.fidelity.com/eresearch/markets_sectors/sectors/sectors_in_market.jhtml?tab=learn&sector=25'),\\n ('Financials',\\n  0.63,\\n  '$8.83T',\\n  11.32,\\n  'https://eresearch.fidelity.com/eresearch/markets_sectors/sectors/sectors_in_market.jhtml?tab=learn&sector=40'),\\n ('Communication Services',\\n  0.78,\\n  '$5.74T',\\n  10.01,\\n  'https://eresearch.fidelity.com/eresearch/markets_sectors/sectors/sectors_in_market.jhtml?tab=learn&sector=50'),\\n ('Industrials',\\n  0.43,\\n  '$5.58T',\\n  8.06,\\n  'https://eresearch.fidelity.com/eresearch/markets_sectors/sectors/sectors_in_market.jhtml?tab=learn&sector=20'),\\n ('Consumer Staples',\\n  -0.16,\\n  '$4.26T',\\n  6.27,\\n  'https://eresearch.fidelity.com/eresearch/markets_sectors/sectors/sectors_in_market.jhtml?tab=learn&sector=30'),\\n ('Energy',\\n  0.12,\\n  '$3.19T',\\n  3.27,\\n  'https://eresearch.fidelity.com/eresearch/markets_sectors/sectors/sectors_in_market.jhtml?tab=learn&sector=10'),\\n ('Real Estate',\\n  0.69,\\n  '$1.71T',\\n  2.72,\\n  'https://eresearch.fidelity.com/eresearch/markets_sectors/sectors/sectors_in_market.jhtml?tab=learn&sector=60'),\\n ('Utilities',\\n  0.55,\\n  '$1.63T',\\n  2.6,\\n  'https://eresearch.fidelity.com/eresearch/markets_sectors/sectors/sectors_in_market.jhtml?tab=learn&sector=55'),\\n ('Materials',\\n  0.25,\\n  '$2.53T',\\n  2.58,\\n  'https://eresearch.fidelity.com/eresearch/markets_sectors/sectors/sectors_in_market.jhtml?tab=learn&sector=15')]\\n  \\n\""
            ],
            "application/vnd.google.colaboratory.intrinsic+json": {
              "type": "string"
            }
          },
          "metadata": {},
          "execution_count": 5
        }
      ],
      "source": [
        "#Running the above cell should return (example: obviously the results will vary over time!)\n",
        "\"\"\"\n",
        "[('Information Technology',\n",
        "  2.16,\n",
        "  '$14.64T',\n",
        "  28.02,\n",
        "  'https://eresearch.fidelity.com/eresearch/markets_sectors/sectors/sectors_in_market.jhtml?tab=learn&sector=45'),\n",
        " ('Health Care',\n",
        "  0.19,\n",
        "  '$7.60T',\n",
        "  13.22,\n",
        "  'https://eresearch.fidelity.com/eresearch/markets_sectors/sectors/sectors_in_market.jhtml?tab=learn&sector=35'),\n",
        " ('Consumer Discretionary',\n",
        "  1.96,\n",
        "  '$8.32T',\n",
        "  11.94,\n",
        "  'https://eresearch.fidelity.com/eresearch/markets_sectors/sectors/sectors_in_market.jhtml?tab=learn&sector=25'),\n",
        " ('Financials',\n",
        "  0.63,\n",
        "  '$8.83T',\n",
        "  11.32,\n",
        "  'https://eresearch.fidelity.com/eresearch/markets_sectors/sectors/sectors_in_market.jhtml?tab=learn&sector=40'),\n",
        " ('Communication Services',\n",
        "  0.78,\n",
        "  '$5.74T',\n",
        "  10.01,\n",
        "  'https://eresearch.fidelity.com/eresearch/markets_sectors/sectors/sectors_in_market.jhtml?tab=learn&sector=50'),\n",
        " ('Industrials',\n",
        "  0.43,\n",
        "  '$5.58T',\n",
        "  8.06,\n",
        "  'https://eresearch.fidelity.com/eresearch/markets_sectors/sectors/sectors_in_market.jhtml?tab=learn&sector=20'),\n",
        " ('Consumer Staples',\n",
        "  -0.16,\n",
        "  '$4.26T',\n",
        "  6.27,\n",
        "  'https://eresearch.fidelity.com/eresearch/markets_sectors/sectors/sectors_in_market.jhtml?tab=learn&sector=30'),\n",
        " ('Energy',\n",
        "  0.12,\n",
        "  '$3.19T',\n",
        "  3.27,\n",
        "  'https://eresearch.fidelity.com/eresearch/markets_sectors/sectors/sectors_in_market.jhtml?tab=learn&sector=10'),\n",
        " ('Real Estate',\n",
        "  0.69,\n",
        "  '$1.71T',\n",
        "  2.72,\n",
        "  'https://eresearch.fidelity.com/eresearch/markets_sectors/sectors/sectors_in_market.jhtml?tab=learn&sector=60'),\n",
        " ('Utilities',\n",
        "  0.55,\n",
        "  '$1.63T',\n",
        "  2.6,\n",
        "  'https://eresearch.fidelity.com/eresearch/markets_sectors/sectors/sectors_in_market.jhtml?tab=learn&sector=55'),\n",
        " ('Materials',\n",
        "  0.25,\n",
        "  '$2.53T',\n",
        "  2.58,\n",
        "  'https://eresearch.fidelity.com/eresearch/markets_sectors/sectors/sectors_in_market.jhtml?tab=learn&sector=15')]\n",
        "  \n",
        "\"\"\""
      ]
    },
    {
      "cell_type": "markdown",
      "metadata": {
        "id": "HNdUbHKch5Ml"
      },
      "source": [
        "<h3>Hint: How to sort tuples by an arbitrary element?</h3>"
      ]
    },
    {
      "cell_type": "code",
      "execution_count": null,
      "metadata": {
        "colab": {
          "base_uri": "https://localhost:8080/"
        },
        "id": "C16CdiImh5Mo",
        "outputId": "1b19ae2e-0ea0-4a16-8c98-f236b263fed2"
      },
      "outputs": [
        {
          "output_type": "execute_result",
          "data": {
            "text/plain": [
              "[('a', 23.2, 'b'), ('c', 17.4, 'f'), ('d', 29.2, 'z'), ('e', 1.74, 'bb')]"
            ]
          },
          "metadata": {},
          "execution_count": 6
        }
      ],
      "source": [
        "x = [('a',23.2,'b'),('c',17.4,'f'),('d',29.2,'z'),('e',1.74,'bb')]\n",
        "x.sort() #Sorts by the first element of the tuple\n",
        "x"
      ]
    },
    {
      "cell_type": "code",
      "execution_count": null,
      "metadata": {
        "colab": {
          "base_uri": "https://localhost:8080/"
        },
        "id": "9NX1CH5Mh5Mr",
        "outputId": "e7f4c81d-a2df-4198-ba9f-9eb4efe4edac"
      },
      "outputs": [
        {
          "output_type": "execute_result",
          "data": {
            "text/plain": [
              "[('e', 1.74, 'bb'), ('c', 17.4, 'f'), ('a', 23.2, 'b'), ('d', 29.2, 'z')]"
            ]
          },
          "metadata": {},
          "execution_count": 7
        }
      ],
      "source": [
        "x = [('a',23.2,'b'),('c',17.4,'f'),('d',29.2,'z'),('e',1.74,'bb')]\n",
        "x.sort(key=lambda k: k[1]) #Sorts by the element at position 1\n",
        "x"
      ]
    }
  ],
  "metadata": {
    "kernelspec": {
      "display_name": "Python 3 (ipykernel)",
      "language": "python",
      "name": "python3"
    },
    "language_info": {
      "codemirror_mode": {
        "name": "ipython",
        "version": 3
      },
      "file_extension": ".py",
      "mimetype": "text/x-python",
      "name": "python",
      "nbconvert_exporter": "python",
      "pygments_lexer": "ipython3",
      "version": "3.9.7"
    },
    "colab": {
      "provenance": []
    }
  },
  "nbformat": 4,
  "nbformat_minor": 0
}